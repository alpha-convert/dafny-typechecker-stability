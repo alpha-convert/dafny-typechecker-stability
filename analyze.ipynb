{
 "cells": [
  {
   "cell_type": "code",
   "execution_count": 1,
   "metadata": {},
   "outputs": [],
   "source": [
    "import numpy as np\n",
    "import pandas as pd\n",
    "\n",
    "import glob\n",
    "import os\n",
    "import matplotlib.pyplot as plt\n"
   ]
  },
  {
   "cell_type": "code",
   "execution_count": 3,
   "metadata": {},
   "outputs": [],
   "source": [
    "\n",
    "all_files = glob.glob(\"./TestResults/*.csv\")\n",
    "\n",
    "li = []\n",
    "\n",
    "for filename in all_files:\n",
    "    df = pd.read_csv(filename, index_col=None, header=0)\n",
    "    li.append(df)\n",
    "\n",
    "frame = pd.concat(li, axis=0, ignore_index=True)"
   ]
  },
  {
   "cell_type": "code",
   "execution_count": 4,
   "metadata": {},
   "outputs": [],
   "source": [
    "def timedelta_to_microseconds(delta):\n",
    "    return delta.days * 24 * 3600 * 1e6 + delta.seconds * 1e6 + delta.microseconds"
   ]
  },
  {
   "cell_type": "code",
   "execution_count": 15,
   "metadata": {},
   "outputs": [
    {
     "name": "stderr",
     "output_type": "stream",
     "text": [
      "/var/folders/rj/yzfg8y3s62x51yphd1_qtjxm0000gq/T/ipykernel_62038/2396411842.py:9: SettingWithCopyWarning: \n",
      "A value is trying to be set on a copy of a slice from a DataFrame.\n",
      "Try using .loc[row_indexer,col_indexer] = value instead\n",
      "\n",
      "See the caveats in the documentation: https://pandas.pydata.org/pandas-docs/stable/user_guide/indexing.html#returning-a-view-versus-a-copy\n",
      "  directFrame['TestResult.Duration'] = pd.to_timedelta(directFrame['TestResult.Duration']).apply(timedelta_to_microseconds)\n",
      "/var/folders/rj/yzfg8y3s62x51yphd1_qtjxm0000gq/T/ipykernel_62038/2396411842.py:10: SettingWithCopyWarning: \n",
      "A value is trying to be set on a copy of a slice from a DataFrame.\n",
      "Try using .loc[row_indexer,col_indexer] = value instead\n",
      "\n",
      "See the caveats in the documentation: https://pandas.pydata.org/pandas-docs/stable/user_guide/indexing.html#returning-a-view-versus-a-copy\n",
      "  monadicFrame['TestResult.Duration'] = pd.to_timedelta(monadicFrame['TestResult.Duration']).apply(timedelta_to_microseconds)\n",
      "/var/folders/rj/yzfg8y3s62x51yphd1_qtjxm0000gq/T/ipykernel_62038/2396411842.py:11: SettingWithCopyWarning: \n",
      "A value is trying to be set on a copy of a slice from a DataFrame.\n",
      "Try using .loc[row_indexer,col_indexer] = value instead\n",
      "\n",
      "See the caveats in the documentation: https://pandas.pydata.org/pandas-docs/stable/user_guide/indexing.html#returning-a-view-versus-a-copy\n",
      "  bidirFrame['TestResult.Duration'] = pd.to_timedelta(bidirFrame['TestResult.Duration']).apply(timedelta_to_microseconds)\n",
      "/var/folders/rj/yzfg8y3s62x51yphd1_qtjxm0000gq/T/ipykernel_62038/2396411842.py:12: SettingWithCopyWarning: \n",
      "A value is trying to be set on a copy of a slice from a DataFrame.\n",
      "Try using .loc[row_indexer,col_indexer] = value instead\n",
      "\n",
      "See the caveats in the documentation: https://pandas.pydata.org/pandas-docs/stable/user_guide/indexing.html#returning-a-view-versus-a-copy\n",
      "  semanticFrame['TestResult.Duration'] = pd.to_timedelta(semanticFrame['TestResult.Duration']).apply(timedelta_to_microseconds)\n"
     ]
    }
   ],
   "source": [
    "#Filter for only correctness\n",
    "frame = frame[frame['TestResult.DisplayName'].str.contains('\\(correctness\\)')]\n",
    "\n",
    "directFrame = frame[frame['TestResult.DisplayName'].str.contains('soundDirect')]\n",
    "monadicFrame = frame[frame['TestResult.DisplayName'].str.contains('soundMonadic')]\n",
    "bidirFrame = frame[frame['TestResult.DisplayName'].str.contains('soundBidir')]\n",
    "semanticFrame = frame[frame['TestResult.DisplayName'].str.contains('soundSemantic')]\n",
    "\n",
    "directFrame['TestResult.Duration'] = pd.to_timedelta(directFrame['TestResult.Duration']).apply(timedelta_to_microseconds)\n",
    "monadicFrame['TestResult.Duration'] = pd.to_timedelta(monadicFrame['TestResult.Duration']).apply(timedelta_to_microseconds)\n",
    "bidirFrame['TestResult.Duration'] = pd.to_timedelta(bidirFrame['TestResult.Duration']).apply(timedelta_to_microseconds)\n",
    "semanticFrame['TestResult.Duration'] = pd.to_timedelta(semanticFrame['TestResult.Duration']).apply(timedelta_to_microseconds)"
   ]
  },
  {
   "cell_type": "code",
   "execution_count": 9,
   "metadata": {},
   "outputs": [
    {
     "data": {
      "text/html": [
       "<div>\n",
       "<style scoped>\n",
       "    .dataframe tbody tr th:only-of-type {\n",
       "        vertical-align: middle;\n",
       "    }\n",
       "\n",
       "    .dataframe tbody tr th {\n",
       "        vertical-align: top;\n",
       "    }\n",
       "\n",
       "    .dataframe thead th {\n",
       "        text-align: right;\n",
       "    }\n",
       "</style>\n",
       "<table border=\"1\" class=\"dataframe\">\n",
       "  <thead>\n",
       "    <tr style=\"text-align: right;\">\n",
       "      <th></th>\n",
       "      <th>TestResult.DisplayName</th>\n",
       "      <th>TestResult.Outcome</th>\n",
       "      <th>TestResult.Duration</th>\n",
       "      <th>TestResult.ResourceCount</th>\n",
       "    </tr>\n",
       "  </thead>\n",
       "  <tbody>\n",
       "  </tbody>\n",
       "</table>\n",
       "</div>"
      ],
      "text/plain": [
       "Empty DataFrame\n",
       "Columns: [TestResult.DisplayName, TestResult.Outcome, TestResult.Duration, TestResult.ResourceCount]\n",
       "Index: []"
      ]
     },
     "execution_count": 9,
     "metadata": {},
     "output_type": "execute_result"
    }
   ],
   "source": [
    "semanticFrame"
   ]
  },
  {
   "cell_type": "code",
   "execution_count": 21,
   "metadata": {},
   "outputs": [
    {
     "name": "stdout",
     "output_type": "stream",
     "text": [
      "680358.97\n",
      "7.361489267946085\n"
     ]
    },
    {
     "data": {
      "image/png": "[encoded data removed]",
      "text/plain": [
       "<Figure size 640x480 with 1 Axes>"
      ]
     },
     "metadata": {},
     "output_type": "display_data"
    }
   ],
   "source": [
    "plt.hist(directFrame['TestResult.Duration'])\n",
    "print(directFrame['TestResult.Duration'].mean()) \n",
    "print(directFrame['TestResult.Duration'].mean() / directFrame['TestResult.Duration'].std())\n"
   ]
  },
  {
   "cell_type": "code",
   "execution_count": 20,
   "metadata": {},
   "outputs": [
    {
     "name": "stdout",
     "output_type": "stream",
     "text": [
      "730119.94\n",
      "7.434733393132061\n"
     ]
    },
    {
     "data": {
      "image/png": "[encoded data removed]",
      "text/plain": [
       "<Figure size 640x480 with 1 Axes>"
      ]
     },
     "metadata": {},
     "output_type": "display_data"
    }
   ],
   "source": [
    "plt.hist(monadicFrame['TestResult.Duration'])\n",
    "print(monadicFrame['TestResult.Duration'].mean())\n",
    "print(monadicFrame['TestResult.Duration'].mean() / monadicFrame['TestResult.Duration'].std())"
   ]
  },
  {
   "cell_type": "code",
   "execution_count": null,
   "metadata": {},
   "outputs": [],
   "source": [
    "frame"
   ]
  },
  {
   "cell_type": "code",
   "execution_count": 29,
   "metadata": {},
   "outputs": [
    {
     "name": "stdout",
     "output_type": "stream",
     "text": [
      "973588.33\n",
      "141784.50897668154\n"
     ]
    },
    {
     "data": {
      "image/png": "[encoded data removed]",
      "text/plain": [
       "<Figure size 640x480 with 1 Axes>"
      ]
     },
     "metadata": {},
     "output_type": "display_data"
    }
   ],
   "source": [
    "plt.hist(bidirFrame['TestResult.Duration'])\n",
    "print(bidirFrame['TestResult.Duration'].mean())\n",
    "print(bidirFrame['TestResult.Duration'].std())"
   ]
  },
  {
   "cell_type": "code",
   "execution_count": 28,
   "metadata": {},
   "outputs": [
    {
     "name": "stdout",
     "output_type": "stream",
     "text": [
      "711456.44\n",
      "121945.58789077475\n"
     ]
    },
    {
     "data": {
      "image/png": "[encoded data removed]",
      "text/plain": [
       "<Figure size 640x480 with 1 Axes>"
      ]
     },
     "metadata": {},
     "output_type": "display_data"
    }
   ],
   "source": [
    "plt.hist(semanticFrame['TestResult.Duration'])\n",
    "print(semanticFrame['TestResult.Duration'].mean())\n",
    "print(semanticFrame['TestResult.Duration'].std())"
   ]
  }
 ],
 "metadata": {
  "kernelspec": {
   "display_name": "Python 3",
   "language": "python",
   "name": "python3"
  },
  "language_info": {
   "codemirror_mode": {
    "name": "ipython",
    "version": 3
   },
   "file_extension": ".py",
   "mimetype": "text/x-python",
   "name": "python",
   "nbconvert_exporter": "python",
   "pygments_lexer": "ipython3",
   "version": "3.9.6"
  }
 },
 "nbformat": 4,
 "nbformat_minor": 2
}
